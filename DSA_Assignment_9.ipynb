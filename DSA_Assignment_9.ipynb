{
 "cells": [
  {
   "cell_type": "code",
   "execution_count": null,
   "id": "bef94afa",
   "metadata": {},
   "outputs": [],
   "source": [
    "1.Given a 1-indexed array of integers numbers that are already sorted in non-decreasing order, find two numbers such that they add up to a specific target number. Let these two numbers be numbers[index1] and numbers[index2] where 1 <= index1 < index2 < numbers.length.\n",
    "Return the indices of the two numbers, index1, and index2, added by one as an integer array [index1, index2] of length 2.\n",
    "The tests are generated such that there is exactly one solution. You may not use the same element twice.\n",
    "Your solution must use only constant extra space.\n",
    "Input: numbers = [2,7,11,15], target = 9\n",
    "Output: [1,2]\n",
    "Explanation: The sum of 2 and 7 is 9. Therefore, index1 = 1, index2 = 2. We return [1, 2].\n"
   ]
  },
  {
   "cell_type": "code",
   "execution_count": 1,
   "id": "6eec246c",
   "metadata": {},
   "outputs": [
    {
     "name": "stdout",
     "output_type": "stream",
     "text": [
      "[1, 2]\n"
     ]
    }
   ],
   "source": [
    "def two_sum(numbers, target):\n",
    "  i = 0\n",
    "  j = len(numbers) - 1\n",
    "  while i < j:\n",
    "    if numbers[i] + numbers[j] == target:\n",
    "      return [i + 1, j + 1]\n",
    "    elif numbers[i] + numbers[j] < target:\n",
    "      i += 1\n",
    "    else:\n",
    "      j -= 1\n",
    "  return []\n",
    "\n",
    "\n",
    "if __name__ == \"__main__\":\n",
    "  numbers = [2, 7, 11, 15]\n",
    "  target = 9\n",
    "  indices = two_sum(numbers, target)\n",
    "  print(indices)\n"
   ]
  },
  {
   "cell_type": "code",
   "execution_count": null,
   "id": "e4c6da67",
   "metadata": {},
   "outputs": [],
   "source": [
    "2.Given an array of integer nums sorted in non-decreasing order, find the starting and ending position of a given target value.\n",
    "If the target is not found in the array, return [-1, -1].\n",
    "You must write an algorithm with O(log n) runtime complexity\n",
    "Input: nums = [5,7,7,8,8,10], target = 8\n",
    "Output: [3,4]\n"
   ]
  },
  {
   "cell_type": "code",
   "execution_count": 2,
   "id": "506ed91e",
   "metadata": {},
   "outputs": [
    {
     "name": "stdout",
     "output_type": "stream",
     "text": [
      "[3, 3]\n"
     ]
    }
   ],
   "source": [
    "def find_first_and_last_position(nums, target):\n",
    "  start = -1\n",
    "  end = -1\n",
    "  low = 0\n",
    "  high = len(nums) - 1\n",
    "  while low <= high:\n",
    "    mid = (low + high) // 2\n",
    "    if nums[mid] == target:\n",
    "      start = mid\n",
    "      high = mid - 1\n",
    "    elif nums[mid] < target:\n",
    "      low = mid + 1\n",
    "    else:\n",
    "      high = mid - 1\n",
    "  if start != -1:\n",
    "    end = low\n",
    "  return [start, end]\n",
    "\n",
    "\n",
    "if __name__ == \"__main__\":\n",
    "  nums = [5, 7, 7, 8, 8, 10]\n",
    "  target = 8\n",
    "  indices = find_first_and_last_position(nums, target)\n",
    "  print(indices)\n"
   ]
  },
  {
   "cell_type": "code",
   "execution_count": null,
   "id": "621d86e8",
   "metadata": {},
   "outputs": [],
   "source": [
    "3.A peak element is an element that is strictly greater than its neighbors.\n",
    "Given a 0-indexed integer array nums, find a peak element, and return its index. If the array contains multiple peaks, return the index to any of the peaks.\n",
    "You may imagine that nums[-1] = nums[n] = -∞. In other words, an element is always considered to be strictly greater than a neighbor that is outside the array.\n",
    "You must write an algorithm that runs in O(log n) time.\n",
    "Input: nums = [1,2,3,1]\n",
    "Output: 2\n",
    "Explanation: 3 is a peak element and your function should return the index number 2.\n"
   ]
  },
  {
   "cell_type": "code",
   "execution_count": 3,
   "id": "c0d1c2ca",
   "metadata": {},
   "outputs": [
    {
     "name": "stdout",
     "output_type": "stream",
     "text": [
      "2\n"
     ]
    }
   ],
   "source": [
    "def find_peak_element(nums):\n",
    "  low = 0\n",
    "  high = len(nums) - 1\n",
    "  while low <= high:\n",
    "    mid = (low + high) // 2\n",
    "    if nums[mid - 1] < nums[mid] and nums[mid + 1] < nums[mid]:\n",
    "      return mid\n",
    "    elif nums[mid - 1] >= nums[mid]:\n",
    "      high = mid - 1\n",
    "    else:\n",
    "      low = mid + 1\n",
    "  return -1\n",
    "\n",
    "\n",
    "if __name__ == \"__main__\":\n",
    "  nums = [1, 2, 3, 1]\n",
    "  index = find_peak_element(nums)\n",
    "  print(index)\n"
   ]
  },
  {
   "cell_type": "code",
   "execution_count": null,
   "id": "27e8b2b6",
   "metadata": {},
   "outputs": [],
   "source": [
    "4.Given a sorted array of distinct integers and a target value, return the index if the target is found. If not, return the index where it would be if it were inserted in order.\n",
    "You must write an algorithm with O(log n) runtime complexity.\n",
    "Input: nums = [1,3,5,6], target = 5\n",
    "Output: 2\n",
    "\n",
    "Input: nums = [1,3,5,6], target = 7\n",
    "Output: 4\n"
   ]
  },
  {
   "cell_type": "code",
   "execution_count": 4,
   "id": "a14de65b",
   "metadata": {},
   "outputs": [
    {
     "name": "stdout",
     "output_type": "stream",
     "text": [
      "2\n",
      "4\n"
     ]
    }
   ],
   "source": [
    "def search_insert_position(nums, target):\n",
    "  low = 0\n",
    "  high = len(nums) - 1\n",
    "  while low <= high:\n",
    "    mid = (low + high) // 2\n",
    "    if nums[mid] == target:\n",
    "      return mid\n",
    "    elif nums[mid] < target:\n",
    "      low = mid + 1\n",
    "    else:\n",
    "      high = mid - 1\n",
    "  return low\n",
    "\n",
    "\n",
    "if __name__ == \"__main__\":\n",
    "  nums = [1, 3, 5, 6]\n",
    "  target = 5\n",
    "  index = search_insert_position(nums, target)\n",
    "  print(index)\n",
    "\n",
    "  nums = [1, 3, 5, 6]\n",
    "  target = 7\n",
    "  index = search_insert_position(nums, target)\n",
    "  print(index)\n"
   ]
  },
  {
   "cell_type": "code",
   "execution_count": null,
   "id": "964ccdbf",
   "metadata": {},
   "outputs": [],
   "source": [
    "5.Find the majority element in the array. A majority element in an array A[] of size n is an element that appears more than n/2 times (and hence there is at most one such element). \n",
    "Input: A[]={3, 3, 4, 2, 4, 4, 2, 4, 4}\n",
    "Output: 4\n",
    "Explanation: The frequency of 4 is 5 which is greater than half of the size of the array size."
   ]
  },
  {
   "cell_type": "code",
   "execution_count": 5,
   "id": "254ce682",
   "metadata": {},
   "outputs": [
    {
     "name": "stdout",
     "output_type": "stream",
     "text": [
      "4\n"
     ]
    }
   ],
   "source": [
    "def find_majority_element(nums):\n",
    "\n",
    "  count = 0\n",
    "  candidate = nums[0]\n",
    "  for num in nums:\n",
    "    if num == candidate:\n",
    "      count += 1\n",
    "    elif count == 0:\n",
    "      candidate = num\n",
    "      count = 1\n",
    "    else:\n",
    "      count -= 1\n",
    "  return candidate if count > 0 else None\n",
    "\n",
    "\n",
    "if __name__ == \"__main__\":\n",
    "  nums = [3, 3, 4, 2, 4, 4, 2, 4, 4]\n",
    "  majority_element = find_majority_element(nums)\n",
    "  print(majority_element)\n"
   ]
  },
  {
   "cell_type": "code",
   "execution_count": null,
   "id": "fb2d04a3",
   "metadata": {},
   "outputs": [],
   "source": [
    "6.You are a product manager and currently leading a team to develop a new product. Unfortunately, the latest version of your product fails the quality check. Since each version is developed based on the previous version, all the versions after a bad version are also bad.\n",
    "Suppose you have n versions [1, 2, ..., n] and you want to find out the first bad one, which causes all the following ones to be bad.\n",
    "You are given an API bool isBadVersion(version) which returns whether the version is bad. Implement a function to find the first bad version. You should minimize the number of calls to the API.\n",
    "Input: n = 5, bad = 4\n",
    "Output: 4\n",
    "Explanation:\n",
    "call isBadVersion(3) -> false\n",
    "call isBadVersion(5) -> true\n",
    "call isBadVersion(4) -> true\n",
    "Then 4 is the first bad version.\n"
   ]
  },
  {
   "cell_type": "code",
   "execution_count": 12,
   "id": "482f782f",
   "metadata": {},
   "outputs": [
    {
     "name": "stdout",
     "output_type": "stream",
     "text": [
      "true\n"
     ]
    }
   ],
   "source": [
    "def first_bad_version(n):\n",
    "  left = 1\n",
    "  right = n\n",
    "  while left <= right:\n",
    "    mid = left + (right - left) // 2\n",
    "    if isBadVersion(mid):\n",
    "      return mid\n",
    "    else:\n",
    "      right = mid - 1\n",
    "  return None\n",
    "\n",
    "\n",
    "if __name__ == \"__main__\":\n",
    "  n = 5\n",
    "  bad = 4\n",
    "  first_bad_version = first_bad_version(n)\n",
    "  print(first_bad_version)\n"
   ]
  },
  {
   "cell_type": "code",
   "execution_count": 1,
   "id": "e20039a4",
   "metadata": {},
   "outputs": [
    {
     "name": "stdout",
     "output_type": "stream",
     "text": [
      ".\n"
     ]
    }
   ],
   "source": [
    "7.Given an array of integers, find the inversion of an array. Formally, two elements a[i] and a[j] form an inversion if a[i] > a[j] and i < j.\n",
    "N=5, arr[] = {2, 4, 1, 3, 5}\n",
    "Output: 3\n",
    "Explanation: (2,1) (4,1) and (4,3) forms an inversion in an array\n"
   ]
  },
  {
   "cell_type": "code",
   "execution_count": 2,
   "id": "79525726",
   "metadata": {},
   "outputs": [
    {
     "name": "stdout",
     "output_type": "stream",
     "text": [
      "3\n"
     ]
    }
   ],
   "source": [
    "def inversion_count(arr, n):\n",
    "  inversion_count = 0\n",
    "  for i in range(n):\n",
    "    for j in range(i + 1, n):\n",
    "      if arr[i] > arr[j]:\n",
    "        inversion_count += 1\n",
    "  return inversion_count\n",
    "\n",
    "\n",
    "if __name__ == \"__main__\":\n",
    "  arr = [2, 4, 1, 3, 5]\n",
    "  n = len(arr)\n",
    "  inversion_count = inversion_count(arr, n)\n",
    "  print(inversion_count)\n"
   ]
  },
  {
   "cell_type": "code",
   "execution_count": null,
   "id": "65cbfb84",
   "metadata": {},
   "outputs": [],
   "source": [
    "8.Given three arrays sorted in non-decreasing order, print all common elements in these arrays.\n",
    "ar1[] = {1, 5, 10, 20, 40, 80} \n",
    "ar2[] = {6, 7, 20, 80, 100} \n",
    "ar3[] = {3, 4, 15, 20, 30, 70, 80, 120} \n",
    "Output: 20, 80\n"
   ]
  },
  {
   "cell_type": "code",
   "execution_count": 3,
   "id": "889a3582",
   "metadata": {},
   "outputs": [
    {
     "name": "stdout",
     "output_type": "stream",
     "text": [
      "[20, 80]\n"
     ]
    }
   ],
   "source": [
    "def find_common_elements(arr1, arr2, arr3):\n",
    "  common_elements = []\n",
    "  i = 0\n",
    "  j = 0\n",
    "  k = 0\n",
    "  while i < len(arr1) and j < len(arr2) and k < len(arr3):\n",
    "    if arr1[i] == arr2[j] == arr3[k]:\n",
    "      common_elements.append(arr1[i])\n",
    "      i += 1\n",
    "      j += 1\n",
    "      k += 1\n",
    "    elif arr1[i] < arr2[j]:\n",
    "      i += 1\n",
    "    elif arr2[j] < arr3[k]:\n",
    "      j += 1\n",
    "    else:\n",
    "      k += 1\n",
    "  return common_elements\n",
    "\n",
    "\n",
    "if __name__ == \"__main__\":\n",
    "  arr1 = [1, 5, 10, 20, 40, 80]\n",
    "  arr2 = [6, 7, 20, 80, 100]\n",
    "  arr3 = [3, 4, 15, 20, 30, 70, 80, 120]\n",
    "  common_elements = find_common_elements(arr1, arr2, arr3)\n",
    "  print(common_elements)\n"
   ]
  },
  {
   "cell_type": "code",
   "execution_count": null,
   "id": "c6bdb174",
   "metadata": {},
   "outputs": [],
   "source": []
  }
 ],
 "metadata": {
  "kernelspec": {
   "display_name": "Python 3 (ipykernel)",
   "language": "python",
   "name": "python3"
  },
  "language_info": {
   "codemirror_mode": {
    "name": "ipython",
    "version": 3
   },
   "file_extension": ".py",
   "mimetype": "text/x-python",
   "name": "python",
   "nbconvert_exporter": "python",
   "pygments_lexer": "ipython3",
   "version": "3.9.7"
  }
 },
 "nbformat": 4,
 "nbformat_minor": 5
}
