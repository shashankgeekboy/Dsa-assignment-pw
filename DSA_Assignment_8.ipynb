{
  "metadata": {
    "language_info": {
      "codemirror_mode": {
        "name": "python",
        "version": 3
      },
      "file_extension": ".py",
      "mimetype": "text/x-python",
      "name": "python",
      "nbconvert_exporter": "python",
      "pygments_lexer": "ipython3",
      "version": "3.8"
    },
    "kernelspec": {
      "name": "python",
      "display_name": "Python (Pyodide)",
      "language": "python"
    }
  },
  "nbformat_minor": 4,
  "nbformat": 4,
  "cells": [
    {
      "cell_type": "markdown",
      "source": "Q.1\nGiven two strings s1 and s2, return *the lowest **ASCII** sum of deleted characters to make two strings equal*.\n\n**Example 1:**\n\n**Input:** s1 = \"sea\", s2 = \"eat\"\n\n**Output:** 231\n\n**Explanation:** Deleting \"s\" from \"sea\" adds the ASCII value of \"s\" (115) to the sum.\n\nDeleting \"t\" from \"eat\" adds 116 to the sum.\n\nAt the end, both strings are equal, and 115 + 116 = 231 is the minimum sum possible to achieve this.",
      "metadata": {}
    },
    {
      "cell_type": "code",
      "source": "def minimum_ascii_deletion(s1, s2):\n    m, n = len(s1), len(s2)\n\n    # Initialize a 2D DP table to store the lengths of LCS\n    dp = [[0] * (n + 1) for _ in range(m + 1)]\n\n    # Calculate the lengths of LCS\n    for i in range(1, m + 1):\n        for j in range(1, n + 1):\n            if s1[i - 1] == s2[j - 1]:\n                dp[i][j] = dp[i - 1][j - 1] + ord(s1[i - 1])\n            else:\n                dp[i][j] = max(dp[i - 1][j], dp[i][j - 1])\n\n    # The sum of ASCII values of deleted characters\n    # is the sum of ASCII values of all characters in s1 and s2\n    # minus the sum of ASCII values of LCS characters.\n    total_ascii_sum = sum(ord(c) for c in s1) + sum(ord(c) for c in s2)\n    deletion_sum = total_ascii_sum - dp[m][n]\n\n    return deletion_sum\n\n# Test case\ns1_input = \"sea\"\ns2_input = \"eat\"\nprint(minimum_ascii_deletion(s1_input, s2_input))  # Output: 231\n",
      "metadata": {
        "trusted": true
      },
      "execution_count": 1,
      "outputs": [
        {
          "name": "stdout",
          "text": "429\n",
          "output_type": "stream"
        }
      ]
    },
    {
      "cell_type": "markdown",
      "source": "**Question 2**\n\nGiven a string s containing only three types of characters: '(', ')' and '*', return true *if* s *is **valid***.\n\nThe following rules define a **valid** string:\n\n- Any left parenthesis '(' must have a corresponding right parenthesis ')'.\n- Any right parenthesis ')' must have a corresponding left parenthesis '('.\n- Left parenthesis '(' must go before the corresponding right parenthesis ')'.\n- '*' could be treated as a single right parenthesis ')' or a single left parenthesis '(' or an empty string \"\".\n\n**Example 1:**\n\n**Input:** s = \"()\"\n\n**Output:**\n\ntrue",
      "metadata": {}
    },
    {
      "cell_type": "code",
      "source": "def is_valid(s):\n    min_open = max_open = 0\n\n    for char in s:\n        if char == '(':\n            min_open += 1\n            max_open += 1\n        elif char == ')':\n            min_open = max(0, min_open - 1)\n            max_open -= 1\n        elif char == '*':\n            min_open = max(0, min_open - 1)\n            max_open += 1\n\n        if max_open < 0:\n            return False\n\n    return min_open == 0\n\n# Test cases\nprint(is_valid(\"()\"))  # Output: True\nprint(is_valid(\"(*)\"))  # Output: True\nprint(is_valid(\"(*))\"))  # Output: True\nprint(is_valid(\"(((*)\"))  # Output: True\nprint(is_valid(\"((())\"))  # Output: False\n",
      "metadata": {
        "trusted": true
      },
      "execution_count": 2,
      "outputs": [
        {
          "name": "stdout",
          "text": "True\nTrue\nTrue\nFalse\nFalse\n",
          "output_type": "stream"
        }
      ]
    },
    {
      "cell_type": "markdown",
      "source": "\n**Question 3**\n\nGiven two strings word1 and word2, return *the minimum number of **steps** required to make* word1 *and* word2 *the same*.\n\nIn one **step**, you can delete exactly one character in either string.\n\n**Example 1:**\n\n**Input:** word1 = \"sea\", word2 = \"eat\"\n\n**Output:** 2\n\n**Explanation:** You need one step to make \"sea\" to \"ea\" and another step to make \"eat\" to \"ea\".\n",
      "metadata": {}
    },
    {
      "cell_type": "code",
      "source": "def min_steps_to_make_same(word1, word2):\n    m, n = len(word1), len(word2)\n\n    # Initialize a 2D DP table to store the lengths of LCS\n    dp = [[0] * (n + 1) for _ in range(m + 1)]\n\n    # Calculate the lengths of LCS\n    for i in range(1, m + 1):\n        for j in range(1, n + 1):\n            if word1[i - 1] == word2[j - 1]:\n                dp[i][j] = dp[i - 1][j - 1] + 1\n            else:\n                dp[i][j] = max(dp[i - 1][j], dp[i][j - 1])\n\n    # The minimum number of steps required is the sum of the lengths of both strings\n    # minus twice the length of LCS.\n    min_steps = m + n - 2 * dp[m][n]\n\n    return min_steps\n\n# Test case\nword1_input = \"sea\"\nword2_input = \"eat\"\nprint(min_steps_to_make_same(word1_input, word2_input))  # Output: 2\n",
      "metadata": {
        "trusted": true
      },
      "execution_count": 3,
      "outputs": [
        {
          "name": "stdout",
          "text": "2\n",
          "output_type": "stream"
        }
      ]
    },
    {
      "cell_type": "markdown",
      "source": "**Question 4**\n\nYou need to construct a binary tree from a string consisting of parenthesis and integers.\n\nThe whole input represents a binary tree. It contains an integer followed by zero, one or two pairs of parenthesis. The integer represents the root's value and a pair of parenthesis contains a child binary tree with the same structure.\nYou always start to construct the **left** child node of the parent first if it exists.\n**Input:** s = \"4(2(3)(1))(6(5))\"\n\n**Output:** [4,2,6,3,1,5]\n",
      "metadata": {}
    },
    {
      "cell_type": "code",
      "source": "class TreeNode:\n    def __init__(self, val=0, left=None, right=None):\n        self.val = val\n        self.left = left\n        self.right = right\n\ndef str_to_tree(s):\n    def construct_tree(start):\n        if start >= len(s) or s[start] == ')':\n            return None, start + 1\n\n        num = ''\n        while start < len(s) and s[start] not in '()':\n            num += s[start]\n            start += 1\n\n        root = TreeNode(int(num))\n        if start < len(s) and s[start] == '(':\n            root.left, start = construct_tree(start + 1)\n        if start < len(s) and s[start] == '(':\n            root.right, start = construct_tree(start + 1)\n\n        return root, start + 1\n\n    root, _ = construct_tree(0)\n    return root\n\ndef inorder_traversal(root):\n    result = []\n    if root:\n        result += inorder_traversal(root.left)\n        result.append(root.val)\n        result += inorder_traversal(root.right)\n    return result\n\n# Test case\ns_input = \"4(2(3)(1))(6(5))\"\ntree_root = str_to_tree(s_input)\noutput = inorder_traversal(tree_root)\nprint(output)  # Output: [3, 2, 1, 4, 5, 6]\n",
      "metadata": {
        "trusted": true
      },
      "execution_count": 4,
      "outputs": [
        {
          "name": "stdout",
          "text": "[3, 2, 1, 4, 5, 6]\n",
          "output_type": "stream"
        }
      ]
    },
    {
      "cell_type": "markdown",
      "source": "<aside>\n💡 **Question 5**\n\nGiven an array of characters chars, compress it using the following algorithm:\n\nBegin with an empty string s. For each group of **consecutive repeating characters** in chars:\n\n- If the group's length is 1, append the character to s.\n- Otherwise, append the character followed by the group's length.\n\nThe compressed string s **should not be returned separately**, but instead, be stored **in the input character array chars**. Note that group lengths that are 10 or longer will be split into multiple characters in chars.\n\nAfter you are done **modifying the input array,** return *the new length of the array*.\n\nYou must write an algorithm that uses only constant extra space.\n\n**Example 1:**\n\n**Input:** chars = [\"a\",\"a\",\"b\",\"b\",\"c\",\"c\",\"c\"]\n\n**Output:** Return 6, and the first 6 characters of the input array should be: [\"a\",\"2\",\"b\",\"2\",\"c\",\"3\"]\n\n**Explanation:**\n\nThe groups are \"aa\", \"bb\", and \"ccc\". This compresses to \"a2b2c3\"\n\n</aside>",
      "metadata": {}
    },
    {
      "cell_type": "code",
      "source": "def compress(chars):\n    # Helper function to write the character and its count to the array\n    def write_char_and_count(char, count, write_idx):\n        chars[write_idx] = char\n        write_idx += 1\n        if count > 1:\n            count_str = str(count)\n            for digit in count_str:\n                chars[write_idx] = digit\n                write_idx += 1\n        return write_idx\n\n    read_idx, write_idx, count = 0, 0, 1\n\n    while read_idx < len(chars):\n        # Check if the next character is the same as the current one\n        if read_idx + 1 < len(chars) and chars[read_idx] == chars[read_idx + 1]:\n            count += 1\n        else:\n            # Write the current character and its count to the array\n            write_idx = write_char_and_count(chars[read_idx], count, write_idx)\n            count = 1\n\n        read_idx += 1\n\n    return write_idx\n\n# Test case\nchars_input = [\"a\", \"a\", \"b\", \"b\", \"c\", \"c\", \"c\"]\nnew_length = compress(chars_input)\nprint(new_length)  # Output: 6\nprint(chars_input[:new_length])  # Output: ['a', '2', 'b', '2', 'c', '3']\n",
      "metadata": {
        "trusted": true
      },
      "execution_count": 5,
      "outputs": [
        {
          "name": "stdout",
          "text": "6\n['a', '2', 'b', '2', 'c', '3']\n",
          "output_type": "stream"
        }
      ]
    },
    {
      "cell_type": "markdown",
      "source": "Given two strings s and p, return *an array of all the start indices of* p*'s anagrams in* s. You may return the answer in **any order**.\n\nAn **Anagram** is a word or phrase formed by rearranging the letters of a different word or phrase, typically using all the original letters exactly once.\n\n**Example 1:**\n\n**Input:** s = \"cbaebabacd\", p = \"abc\"\n\n**Output:** [0,6]\n\n**Explanation:**\n\nThe substring with start index = 0 is \"cba\", which is an anagram of \"abc\".\n\nThe substring with start index = 6 is \"bac\", which is an anagram of \"abc\"",
      "metadata": {}
    },
    {
      "cell_type": "code",
      "source": "def find_anagrams(s, p):\n    result = []\n    p_freq = {}  # Dictionary to store the frequency of characters in 'p'\n    s_freq = {}  # Dictionary to store the frequency of characters in the current window of 's'\n\n    # Initialize the character frequency dictionary for 'p'\n    for char in p:\n        p_freq[char] = p_freq.get(char, 0) + 1\n\n    window_size = len(p)\n\n    # Initialize the character frequency dictionary for the first window of 's'\n    for i in range(window_size):\n        s_freq[s[i]] = s_freq.get(s[i], 0) + 1\n\n    # Slide the window through the string 's'\n    for i in range(window_size, len(s)):\n        if s_freq == p_freq:\n            result.append(i - window_size)\n\n        # Update the character frequency dictionary for the next window\n        s_freq[s[i]] = s_freq.get(s[i], 0) + 1\n        s_freq[s[i - window_size]] -= 1\n\n        # Remove characters from the dictionary with frequency 0\n        if s_freq[s[i - window_size]] == 0:\n            del s_freq[s[i - window_size]]\n\n    # Check if the last window is an anagram of 'p'\n    if s_freq == p_freq:\n        result.append(len(s) - window_size)\n\n    return result\n\n# Test case\ns_input = \"cbaebabacd\"\np_input = \"abc\"\nprint(find_anagrams(s_input, p_input))  # Output: [0, 6]\n",
      "metadata": {
        "trusted": true
      },
      "execution_count": 6,
      "outputs": [
        {
          "name": "stdout",
          "text": "[0, 6]\n",
          "output_type": "stream"
        }
      ]
    },
    {
      "cell_type": "markdown",
      "source": " **Question 7**\n\nGiven an encoded string, return its decoded string.\n\nThe encoding rule is: k[encoded_string], where the encoded_string inside the square brackets is being repeated exactly k times. Note that k is guaranteed to be a positive integer.\n\nYou may assume that the input string is always valid; there are no extra white spaces, square brackets are well-formed, etc. Furthermore, you may assume that the original data does not contain any digits and that digits are only for those repeat numbers, k. For example, there will not be input like 3a or 2[4].\n\nThe test cases are generated so that the length of the output will never exceed 105.\n\n**Example 1:**\n\n**Input:** s = \"3[a]2[bc]\"\n\n**Output:** \"aaabcbc\"\n",
      "metadata": {}
    },
    {
      "cell_type": "code",
      "source": "def decode_string(s):\n    stack = []\n    repeat = 0\n    decoded_str = \"\"\n\n    for char in s:\n        if char.isdigit():\n            repeat = repeat * 10 + int(char)\n        elif char == '[':\n            stack.append((repeat, decoded_str))\n            repeat = 0\n            decoded_str = \"\"\n        elif char == ']':\n            multiplier, prev_decoded_str = stack.pop()\n            decoded_str = prev_decoded_str + decoded_str * multiplier\n        else:\n            decoded_str += char\n\n    return decoded_str\n\n# Test case\ninput_str = \"3[a]2[bc]\"\nprint(decode_string(input_str))  # Output: \"aaabcbc\"\n",
      "metadata": {
        "trusted": true
      },
      "execution_count": 7,
      "outputs": [
        {
          "name": "stdout",
          "text": "aaabcbc\n",
          "output_type": "stream"
        }
      ]
    },
    {
      "cell_type": "markdown",
      "source": "<aside>\n💡 **Question 8**\n\nGiven two strings s and goal, return true *if you can swap two letters in* s *so the result is equal to* goal*, otherwise, return* false*.*\n\nSwapping letters is defined as taking two indices i and j (0-indexed) such that i != j and swapping the characters at s[i] and s[j].\n\n- For example, swapping at indices 0 and 2 in \"abcd\" results in \"cbad\".\n\n**Example 1:**\n\n**Input:** s = \"ab\", goal = \"ba\"\n\n**Output:** true\n\n**Explanation:** You can swap s[0] = 'a' and s[1] = 'b' to get \"ba\", which is equal to goal.\n\n</aside>",
      "metadata": {}
    },
    {
      "cell_type": "code",
      "source": "def can_swap_strings(s, goal):\n    if len(s) != len(goal):\n        return False\n\n    diff_count = 0\n    diff_indices = []\n\n    for i in range(len(s)):\n        if s[i] != goal[i]:\n            diff_count += 1\n            diff_indices.append(i)\n\n    # Check if exactly two positions differ\n    if diff_count != 2:\n        return False\n\n    # Check if swapping the characters at the differing positions results in the goal string\n    i, j = diff_indices\n    return s[i] == goal[j] and s[j] == goal[i]\n\n# Test case\ns_input = \"ab\"\ngoal_input = \"ba\"\nprint(can_swap_strings(s_input, goal_input))  # Output: True\n\n",
      "metadata": {
        "trusted": true
      },
      "execution_count": 9,
      "outputs": [
        {
          "name": "stdout",
          "text": "True\n",
          "output_type": "stream"
        }
      ]
    },
    {
      "cell_type": "code",
      "source": "",
      "metadata": {},
      "execution_count": null,
      "outputs": []
    }
  ]
}