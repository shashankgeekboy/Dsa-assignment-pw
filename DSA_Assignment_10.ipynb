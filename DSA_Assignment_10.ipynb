{
 "cells": [
  {
   "cell_type": "code",
   "execution_count": null,
   "id": "64839656",
   "metadata": {},
   "outputs": [],
   "source": [
    "1.Delete Node in a Linked List\n"
   ]
  },
  {
   "cell_type": "code",
   "execution_count": 2,
   "id": "af84b869",
   "metadata": {},
   "outputs": [],
   "source": [
    "class Solution(object):\n",
    "    def deleteNode(self, node):\n",
    "        \"\"\"\n",
    "        :type node: ListNode\n",
    "        :rtype: void Do not return anything, modify node in-place instead.\n",
    "        \"\"\"\n",
    "        node.val = node.next.val\n",
    "        node.next = node.next.next\n"
   ]
  },
  {
   "cell_type": "code",
   "execution_count": null,
   "id": "e206492d",
   "metadata": {},
   "outputs": [],
   "source": [
    "2. Remove Linked List Elements\n"
   ]
  },
  {
   "cell_type": "code",
   "execution_count": 3,
   "id": "36bd90eb",
   "metadata": {},
   "outputs": [],
   "source": [
    "\n",
    "class Solution:\n",
    "    def removeElements(self, head, val):\n",
    "\n",
    "        while head and head.val == val:\n",
    "            head = head.next\n",
    "\n",
    "        pointer = head\n",
    "        while pointer and pointer.next:\n",
    "            if pointer.next.val == val:\n",
    "                pointer.next = pointer.next.next\n",
    "            else:\n",
    "                pointer = pointer.next\n",
    "\n",
    "        return head"
   ]
  },
  {
   "cell_type": "code",
   "execution_count": null,
   "id": "257b0fa6",
   "metadata": {},
   "outputs": [],
   "source": [
    "3.Merge Two Sorted Lists\n"
   ]
  },
  {
   "cell_type": "code",
   "execution_count": null,
   "id": "772cd311",
   "metadata": {},
   "outputs": [],
   "source": [
    "class Solution:\n",
    "  def mergeTwoLists(self, list1: Optional[ListNode], list2: Optional[ListNode]) -> Optional[ListNode]:\n",
    "    if not list1 or not list2:\n",
    "      return list1 if list1 else list2\n",
    "    if list1.val > list2.val:\n",
    "      list1, list2 = list2, list1\n",
    "    list1.next = self.mergeTwoLists(list1.next, list2)\n",
    "    return list1\n"
   ]
  },
  {
   "cell_type": "code",
   "execution_count": null,
   "id": "c2aaf5e6",
   "metadata": {},
   "outputs": [],
   "source": [
    "4.Linked List Cycle"
   ]
  },
  {
   "cell_type": "code",
   "execution_count": null,
   "id": "42a0c163",
   "metadata": {},
   "outputs": [],
   "source": [
    "class Solution:\n",
    "  def detectCycle(self, head: ListNode) -> ListNode:\n",
    "    slow = head\n",
    "    fast = head\n",
    "\n",
    "    while fast and fast.next:\n",
    "      slow = slow.next\n",
    "      fast = fast.next.next\n",
    "      if slow == fast:\n",
    "        slow = head\n",
    "        while slow != fast:\n",
    "          slow = slow.next\n",
    "          fast = fast.next\n",
    "        return slow\n",
    "\n",
    "    return None\n"
   ]
  },
  {
   "cell_type": "code",
   "execution_count": null,
   "id": "d1f2bcab",
   "metadata": {},
   "outputs": [],
   "source": [
    "5.Remove the Nth node from the linked list"
   ]
  },
  {
   "cell_type": "code",
   "execution_count": null,
   "id": "6daa5d4e",
   "metadata": {},
   "outputs": [],
   "source": [
    "class Solution:\n",
    "  def removeNthFromEnd(self, head: ListNode, n: int) -> ListNode:\n",
    "    slow = head\n",
    "    fast = head\n",
    "\n",
    "    for _ in range(n):\n",
    "      fast = fast.next\n",
    "    if not fast:\n",
    "      return head.next\n",
    "\n",
    "    while fast.next:\n",
    "      slow = slow.next\n",
    "      fast = fast.next\n",
    "    slow.next = slow.next.next\n",
    "\n",
    "    return head\n"
   ]
  },
  {
   "cell_type": "code",
   "execution_count": null,
   "id": "4b1c7ec8",
   "metadata": {},
   "outputs": [],
   "source": [
    "6.Given a singly linked list of size N. The task is to left-shift the linked list by k nodes, where k is a given positive integer smaller than or equal to the length of the linked list.\n",
    "Input: N = 5\n",
    "value[] = {2, 4, 7, 8, 9}\n",
    "k = 3\n",
    "Output: 8 9 2 4 7\n",
    "Explanation:Rotate 1:4 -> 7 -> 8 -> 9 -> 2\n",
    "Rotate 2: 7 -> 8 -> 9 -> 2 -> 4\n",
    "Rotate 3: 8 -> 9 -> 2 -> 4 -> 7\n"
   ]
  },
  {
   "cell_type": "code",
   "execution_count": 5,
   "id": "6403288f",
   "metadata": {},
   "outputs": [
    {
     "name": "stdout",
     "output_type": "stream",
     "text": [
      ".\n"
     ]
    }
   ],
   "source": [
    "def left_shift_linked_list(head, k):\n",
    "  if k == 0:\n",
    "    return head\n",
    "\n",
    "  dummy_head = ListNode(0)\n",
    "  dummy_head.next = head\n",
    "  current = dummy_head\n",
    "  for _ in range(k):\n",
    "    current = current.next\n",
    "\n",
    "  new_head = current.next\n",
    "  current.next = None\n",
    "  tail = new_head\n",
    "  while tail.next is not None:\n",
    "    tail = tail.next\n",
    "  tail.next = dummy_head.next\n",
    "  return new_head\n",
    "\n",
    "\n",
    "if __name__ == \"__main__\":\n",
    "  head = ListNode(2)\n",
    "  head.next = ListNode(4)\n",
    "  head.next.next = ListNode(7)\n",
    "  head.next.next.next = ListNode(8)\n",
    "  head.next.next.next.next = ListNode(9)\n",
    "  k = 3\n",
    "  new_head = left_shift_linked_list(head, k)\n",
    "  while new_head is not None:\n",
    "    print(new_head.val)\n",
    "    new_head = new_head.next\n"
   ]
  },
  {
   "cell_type": "code",
   "execution_count": null,
   "id": "0e6548cf",
   "metadata": {},
   "outputs": [],
   "source": [
    "7.Given the head of a linked list, we repeatedly delete consecutive sequences of nodes that sum to 0 until there are no such sequences.\n",
    "After doing so, return the head of the final linked list.  You may return any such answer.\n",
    "(Note that in the examples below, all sequences are serializations of ListNode objects.)\n",
    "Input: head = [1,2,-3,3,1]\n",
    "Output: [3,1]\n",
    "Note: The answer [1,2,1] would also be accepted.\n"
   ]
  },
  {
   "cell_type": "code",
   "execution_count": null,
   "id": "cadb0545",
   "metadata": {},
   "outputs": [],
   "source": [
    "def delete_zero_sum_consecutive_sequences(head):\n",
    "  current = head\n",
    "  while current is not None:\n",
    "    sum = 0\n",
    "    while current is not None and sum == 0:\n",
    "      sum += current.val\n",
    "      current = current.next\n",
    "\n",
    "    if sum != 0:\n",
    "      current = current.next\n",
    "    else:\n",
    "      current.val = 0\n",
    "      current = current.next\n",
    "\n",
    "  return head\n",
    "\n",
    "\n",
    "if __name__ == \"__main__\":\n",
    "  head = ListNode(1)\n",
    "  head.next = ListNode(2)\n",
    "  head.next.next = ListNode(-3)\n",
    "  head.next.next.next = ListNode(3)\n",
    "  head.next.next.next.next = ListNode(1)\n",
    "  new_head = delete_zero_sum_consecutive_sequences(head)\n",
    "  while new_head is not None:\n",
    "    print(new_head.val)\n",
    "    new_head = new_head.next\n"
   ]
  },
  {
   "cell_type": "code",
   "execution_count": null,
   "id": "55f8ede7",
   "metadata": {},
   "outputs": [],
   "source": [
    "8.Given the head of a singly linked list, group all the nodes with odd indices together followed by the nodes with even indices, and return the reordered list.\n",
    "The first node is considered odd, and the second node is even, and so on.\n",
    "Note that the relative order inside both the even and odd groups should remain as it was in the input.\n",
    "You must solve the problem in O(1) extra space complexity and O(n) time complexity.\n",
    "Input: head = [1,2,3,4,5]\n",
    "Output: [1,3,5,2,4]\n"
   ]
  },
  {
   "cell_type": "code",
   "execution_count": null,
   "id": "26411009",
   "metadata": {},
   "outputs": [],
   "source": [
    "def group_nodes_by_odd_even_indices(head):\n",
    "  odd_head = ListNode(0)\n",
    "  even_head = ListNode(0)\n",
    "  current = head\n",
    "  odd_current = odd_head\n",
    "  even_current = even_head\n",
    "  while current is not None:\n",
    "    if current.val % 2 == 1:\n",
    "      odd_current.next = current\n",
    "      odd_current = odd_current.next\n",
    "    else:\n",
    "      even_current.next = current\n",
    "      even_current = even_current.next\n",
    "    current = current.next\n",
    "\n",
    "  odd_current.next = even_head.next\n",
    "  return odd_head.next\n",
    "\n",
    "\n",
    "if __name__ == \"__main__\":\n",
    "  head = ListNode(1)\n",
    "  head.next = ListNode(2)\n",
    "  head.next.next = ListNode(3)\n",
    "  head.next.next.next = ListNode(4)\n",
    "  head.next.next.next.next = ListNode(5)\n",
    "  new_head = group_nodes_by_odd_even_indices(head)\n",
    "  while new_head is not None:\n",
    "    print(new_head.val)\n",
    "    new_head = new_head.next\n"
   ]
  }
 ],
 "metadata": {
  "kernelspec": {
   "display_name": "Python 3 (ipykernel)",
   "language": "python",
   "name": "python3"
  },
  "language_info": {
   "codemirror_mode": {
    "name": "ipython",
    "version": 3
   },
   "file_extension": ".py",
   "mimetype": "text/x-python",
   "name": "python",
   "nbconvert_exporter": "python",
   "pygments_lexer": "ipython3",
   "version": "3.9.7"
  }
 },
 "nbformat": 4,
 "nbformat_minor": 5
}
