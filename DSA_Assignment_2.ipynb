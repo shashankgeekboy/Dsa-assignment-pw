{
 "cells": [
  {
   "cell_type": "markdown",
   "id": "6989a9eb",
   "metadata": {},
   "source": [
    "## Question 1:\n",
    "\n",
    "\n",
    "Given an integer array nums of 2n integers, group these integers into n pairs (a1, b1), (a2, b2),..., (an, bn) \n",
    "such that the sum of min(ai, bi) for all i is maximized. Return the maximized sum.\n",
    "\n",
    "**Example 1:**\n",
    "Input: nums = [1,4,3,2]\n",
    "Output: 4\n",
    "\n",
    "**Explanation:** All possible pairings (ignoring the ordering of elements) are:\n",
    "\n",
    "1. (1, 4), (2, 3) -> min(1, 4) + min(2, 3) = 1 + 2 = 3\n",
    "2. (1, 3), (2, 4) -> min(1, 3) + min(2, 4) = 1 + 2 = 3\n",
    "3. (1, 2), (3, 4) -> min(1, 2) + min(3, 4) = 1 + 3 = 4\n",
    "So the maximum possible sum is 4"
   ]
  },
  {
   "cell_type": "code",
   "execution_count": 1,
   "id": "b756098d",
   "metadata": {},
   "outputs": [
    {
     "name": "stdout",
     "output_type": "stream",
     "text": [
      "4\n"
     ]
    }
   ],
   "source": [
    "## Answer:\n",
    "\n",
    "def array_pair_sum(nums):\n",
    "    # Sort the array in ascending order\n",
    "    nums.sort() \n",
    "    max_sum = 0\n",
    "\n",
    "    for i in range(0, len(nums), 2):\n",
    "        max_sum += nums[i]\n",
    "\n",
    "    return max_sum\n",
    "\n",
    "nums = [1, 4, 3, 2]\n",
    "result = array_pair_sum(nums)\n",
    "print(result)"
   ]
  },
  {
   "cell_type": "markdown",
   "id": "8f47bed5",
   "metadata": {},
   "source": [
    "## Question 2:\n",
    "\n",
    "Alice has n candies, where the ith candy is of type candyType[i]. Alice noticed that she started to gain weight, \n",
    "so she visited a doctor. The doctor advised Alice to only eat n / 2 of the candies she has (n is always even).\n",
    "Alice likes her candies very much, and she wants to eat the maximum number of different types of candies while \n",
    "still following the doctor's advice. \n",
    "\n",
    "Given the integer array candyType of length n, return the maximum number of different types of candies she can eat if \n",
    "she only eats n / 2 of them.\n",
    "\n",
    "Example 1:\n",
    "Input: candyType = [1,1,2,2,3,3]\n",
    "Output: 3\n",
    "\n",
    "Explanation: Alice can only eat 6 / 2 = 3 candies. Since there are only 3 types, she can eat one of each type."
   ]
  },
  {
   "cell_type": "code",
   "execution_count": 2,
   "id": "e83524ea",
   "metadata": {},
   "outputs": [
    {
     "name": "stdout",
     "output_type": "stream",
     "text": [
      "3\n"
     ]
    }
   ],
   "source": [
    "## Answer:\n",
    "\n",
    "def max_candies(candyType):\n",
    "    unique_types = set(candyType)  # Get the unique candy types\n",
    "    max_eaten = min(len(unique_types), len(candyType) // 2)\n",
    "    return max_eaten\n",
    "\n",
    "\n",
    "candyType = [1, 1, 2, 2, 3, 3]\n",
    "result = max_candies(candyType)\n",
    "print(result)"
   ]
  },
  {
   "cell_type": "markdown",
   "id": "c33c576d",
   "metadata": {},
   "source": [
    "## Question 3:\n",
    "\n",
    "We define a harmonious array as an array where the difference between its maximum value\n",
    "and its minimum value is exactly 1.\n",
    "\n",
    "Given an integer array nums, return the length of its longest harmonious subsequence\n",
    "among all its possible subsequences.\n",
    "\n",
    "A subsequence of an array is a sequence that can be derived from the array by deleting some or no \n",
    "elements without changing the order of the remaining elements.\n",
    "\n",
    "Example 1:\n",
    "Input: nums = [1,3,2,2,5,2,3,7]\n",
    "Output: 5\n",
    "\n",
    "Explanation: The longest harmonious subsequence is [3,2,2,2,3]."
   ]
  },
  {
   "cell_type": "code",
   "execution_count": 3,
   "id": "6660327a",
   "metadata": {},
   "outputs": [
    {
     "name": "stdout",
     "output_type": "stream",
     "text": [
      "5\n"
     ]
    }
   ],
   "source": [
    "## Answer:\n",
    "\n",
    "def findLHS(nums):\n",
    "    count = {}\n",
    "    max_length = 0\n",
    "\n",
    "    for num in nums:\n",
    "        count[num] = count.get(num, 0) + 1\n",
    "\n",
    "    for num in count:\n",
    "        if num + 1 in count:\n",
    "            current_length = count[num] + count[num + 1]\n",
    "            max_length = max(max_length, current_length)\n",
    "\n",
    "    return max_length\n",
    "\n",
    "\n",
    "nums = [1, 3, 2, 2, 5, 2, 3, 7]\n",
    "result = findLHS(nums)\n",
    "print(result)"
   ]
  },
  {
   "cell_type": "markdown",
   "id": "cd856bd1",
   "metadata": {},
   "source": [
    "## Question 4:\n",
    "\n",
    "You have a long flowerbed in which some of the plots are planted, and some are not.\n",
    "However, flowers cannot be planted in adjacent plots.\n",
    "Given an integer array flowerbed containing 0's and 1's, where 0 means empty and 1 means not empty, \n",
    "and an integer n, return true if n new flowers can be planted in the flowerbed without violating \n",
    "the no-adjacent-flowers rule and false otherwise.\n",
    "\n",
    "Example 1:\n",
    "Input: flowerbed = [1,0,0,0,1], n = 1\n",
    "Output: true"
   ]
  },
  {
   "cell_type": "code",
   "execution_count": 4,
   "id": "b88aae25",
   "metadata": {},
   "outputs": [
    {
     "name": "stdout",
     "output_type": "stream",
     "text": [
      "True\n"
     ]
    }
   ],
   "source": [
    "## Answer:\n",
    "\n",
    "def can_place_flowers(flowerbed, n):\n",
    "    i = 0\n",
    "    while i < len(flowerbed):\n",
    "        if flowerbed[i] == 0 and (i == 0 or flowerbed[i - 1] == 0) and (i == len(flowerbed) - 1 or flowerbed[i + 1] == 0):\n",
    "            flowerbed[i] = 1\n",
    "            n -= 1\n",
    "            if n == 0:\n",
    "                return True\n",
    "        i += 1\n",
    "\n",
    "    return False\n",
    "\n",
    "\n",
    "flowerbed = [1, 0, 0, 0, 1]\n",
    "n = 1\n",
    "result = can_place_flowers(flowerbed, n)\n",
    "print(result)"
   ]
  },
  {
   "cell_type": "markdown",
   "id": "f7527e74",
   "metadata": {},
   "source": [
    "## Question 5:\n",
    "\n",
    "Given an integer array nums, find three numbers whose product is maximum and return the maximum product.\n",
    "\n",
    "Example 1:\n",
    "Input: nums = [1,2,3]\n",
    "Output: 6"
   ]
  },
  {
   "cell_type": "code",
   "execution_count": 5,
   "id": "c7cb999b",
   "metadata": {},
   "outputs": [
    {
     "name": "stdout",
     "output_type": "stream",
     "text": [
      "6\n"
     ]
    }
   ],
   "source": [
    "## Answer:\n",
    "\n",
    "def maximum_product(nums):\n",
    "    nums.sort()  # Sort the array in ascending order\n",
    "    n = len(nums)\n",
    "    return max(nums[n-1] * nums[n-2] * nums[n-3], nums[0] * nums[1] * nums[n-1])\n",
    "\n",
    "\n",
    "nums = [1, 2, 3]\n",
    "result = maximum_product(nums)\n",
    "print(result)"
   ]
  },
  {
   "cell_type": "markdown",
   "id": "203e708a",
   "metadata": {},
   "source": [
    "## Question 6:\n",
    "\n",
    "Given an array of integers nums which is sorted in ascending order, and an integer target,\n",
    "write a function to search target in nums. If target exists, then return its index. Otherwise,\n",
    "return -1.\n",
    "\n",
    "You must write an algorithm with O(log n) runtime complexity.\n",
    "\n",
    "Input: nums = [-1,0,3,5,9,12], target = 9\n",
    "Output: 4\n",
    "\n",
    "Explanation: 9 exists in nums and its index is 4"
   ]
  },
  {
   "cell_type": "code",
   "execution_count": 6,
   "id": "6cb9d416",
   "metadata": {},
   "outputs": [
    {
     "name": "stdout",
     "output_type": "stream",
     "text": [
      "4\n"
     ]
    }
   ],
   "source": [
    "## Answer:\n",
    "\n",
    "def search(nums, target):\n",
    "    left, right = 0, len(nums) - 1\n",
    "\n",
    "    while left <= right:\n",
    "        mid = (left + right) // 2\n",
    "        if nums[mid] == target:\n",
    "            return mid\n",
    "        elif nums[mid] < target:\n",
    "            left = mid + 1\n",
    "        else:\n",
    "            right = mid - 1\n",
    "\n",
    "    return -1\n",
    "\n",
    "\n",
    "nums = [-1, 0, 3, 5, 9, 12]\n",
    "target = 9\n",
    "result = search(nums, target)\n",
    "print(result)"
   ]
  },
  {
   "cell_type": "markdown",
   "id": "7d046ce4",
   "metadata": {},
   "source": [
    "## Question 7:\n",
    "\n",
    "An array is monotonic if it is either monotone increasing or monotone decreasing.\n",
    "\n",
    "An array nums is monotone increasing if for all i <= j, nums[i] <= nums[j]. An array nums is\n",
    "monotone decreasing if for all i <= j, nums[i] >= nums[j].\n",
    "\n",
    "Given an integer array nums, return true if the given array is monotonic, or false otherwise.\n",
    "\n",
    "Example 1:\n",
    "Input: nums = [1,2,2,3]\n",
    "Output: true"
   ]
  },
  {
   "cell_type": "code",
   "execution_count": 7,
   "id": "ef99739e",
   "metadata": {},
   "outputs": [
    {
     "name": "stdout",
     "output_type": "stream",
     "text": [
      "True\n"
     ]
    }
   ],
   "source": [
    "## Answer:\n",
    "\n",
    "def isMonotonic(nums):\n",
    "    isIncreasing = True\n",
    "    isDecreasing = True\n",
    "\n",
    "    for i in range(1, len(nums)):\n",
    "        if nums[i] > nums[i - 1]:\n",
    "            isIncreasing = False\n",
    "        elif nums[i] < nums[i - 1]:\n",
    "            isDecreasing = False\n",
    "\n",
    "        if not isIncreasing and not isDecreasing:\n",
    "            return False\n",
    "\n",
    "    return True\n",
    "\n",
    "\n",
    "nums = [1, 2, 2, 3]\n",
    "result = isMonotonic(nums)\n",
    "print(result)"
   ]
  },
  {
   "cell_type": "markdown",
   "id": "f2de9cbd",
   "metadata": {},
   "source": [
    "## Question 8:\n",
    "\n",
    "You are given an integer array nums and an integer k.\n",
    "\n",
    "In one operation, you can choose any index i where 0 <= i < nums.length and change nums[i] to nums[i] + x \n",
    "where x is an integer from the range [-k, k]. You can apply this operation at most once for each index i.\n",
    "\n",
    "The score of nums is the difference between the maximum and minimum elements in nums.\n",
    "\n",
    "Return the minimum score of nums after applying the mentioned operation at most once for each index in it.\n",
    "\n",
    "Example 1:\n",
    "Input: nums = [1], k = 0\n",
    "Output: 0\n",
    "\n",
    "Explanation: The score is max(nums) - min(nums) = 1 - 1 = 0."
   ]
  },
  {
   "cell_type": "code",
   "execution_count": 9,
   "id": "1819c998",
   "metadata": {},
   "outputs": [
    {
     "name": "stdout",
     "output_type": "stream",
     "text": [
      "0\n"
     ]
    }
   ],
   "source": [
    "## Answer:\n",
    "\n",
    "def minimumScore(nums, k):\n",
    "    minimum = min(nums)\n",
    "    maximum = max(nums)\n",
    "    initial_score = maximum - minimum\n",
    "\n",
    "    if initial_score <= 2 * k:\n",
    "        return initial_score\n",
    "\n",
    "    minimum += k\n",
    "    maximum -= k\n",
    "    new_score = max(nums) - min(nums)\n",
    "\n",
    "    return new_score\n",
    "\n",
    "\n",
    "nums = [1]\n",
    "k = 0\n",
    "result = minimumScore(nums, k)\n",
    "print(result)"
   ]
  },
  {
   "cell_type": "code",
   "execution_count": null,
   "id": "af803cc2",
   "metadata": {},
   "outputs": [],
   "source": []
  }
 ],
 "metadata": {
  "kernelspec": {
   "display_name": "Python 3 (ipykernel)",
   "language": "python",
   "name": "python3"
  },
  "language_info": {
   "codemirror_mode": {
    "name": "ipython",
    "version": 3
   },
   "file_extension": ".py",
   "mimetype": "text/x-python",
   "name": "python",
   "nbconvert_exporter": "python",
   "pygments_lexer": "ipython3",
   "version": "3.10.9"
  }
 },
 "nbformat": 4,
 "nbformat_minor": 5
}
