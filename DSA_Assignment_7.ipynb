{
  "metadata": {
    "language_info": {
      "codemirror_mode": {
        "name": "python",
        "version": 3
      },
      "file_extension": ".py",
      "mimetype": "text/x-python",
      "name": "python",
      "nbconvert_exporter": "python",
      "pygments_lexer": "ipython3",
      "version": "3.8"
    },
    "kernelspec": {
      "name": "python",
      "display_name": "Python (Pyodide)",
      "language": "python"
    }
  },
  "nbformat_minor": 4,
  "nbformat": 4,
  "cells": [
    {
      "cell_type": "markdown",
      "source": "\n **Question 1**\n\nGiven two strings s and t, *determine if they are isomorphic*.\n\nTwo strings s and t are isomorphic if the characters in s can be replaced to get t.\n\nAll occurrences of a character must be replaced with another character while preserving the order of characters. No two characters may map to the same character, but a character may map to itself.\n\n**Example 1:**\n\n**Input:** s = \"egg\", t = \"add\"\n\n**Output:** true\n\n",
      "metadata": {}
    },
    {
      "cell_type": "code",
      "source": "def is_isomorphic(s, t):\n    if len(s) != len(t):\n        return False\n\n    char_map = {}\n    used_chars = set()\n\n    for i in range(len(s)):\n        if s[i] in char_map:\n            if char_map[s[i]] != t[i]:\n                return False\n        else:\n            if t[i] in used_chars:\n                return False\n            char_map[s[i]] = t[i]\n            used_chars.add(t[i])\n\n    return True\n\n# Test cases\nprint(is_isomorphic(\"egg\", \"add\"))  # Output: True\nprint(is_isomorphic(\"foo\", \"bar\"))  # Output: False\nprint(is_isomorphic(\"paper\", \"title\"))  # Output: True\nprint(is_isomorphic(\"ab\", \"aa\"))  # Output: False\n",
      "metadata": {
        "trusted": true
      },
      "execution_count": 2,
      "outputs": [
        {
          "name": "stdout",
          "text": "True\nFalse\nTrue\nFalse\n",
          "output_type": "stream"
        }
      ]
    },
    {
      "cell_type": "markdown",
      "source": " **Question 2**\n\nGiven a string num which represents an integer, return true *if* num *is a **strobogrammatic number***.\n\nA **strobogrammatic number** is a number that looks the same when rotated 180 degrees (looked at upside down).\n\n**Example 1:**\n\n**Input:** num = \"69\"\n\n**Output:**\n\ntrue\n",
      "metadata": {}
    },
    {
      "cell_type": "code",
      "source": "def is_strobogrammatic(num):\n    strobogrammatic_pairs = {'0': '0', '1': '1', '6': '9', '8': '8', '9': '6'}\n    left, right = 0, len(num) - 1\n\n    while left <= right:\n        if num[left] not in strobogrammatic_pairs or num[right] not in strobogrammatic_pairs:\n            return False\n\n        if strobogrammatic_pairs[num[left]] != num[right]:\n            return False\n\n        left += 1\n        right -= 1\n\n    return True\n\n# Test cases\nprint(is_strobogrammatic(\"69\"))  # Output: True\nprint(is_strobogrammatic(\"88\"))  # Output: True\nprint(is_strobogrammatic(\"818\"))  # Output: True\nprint(is_strobogrammatic(\"123\"))  # Output: False\n",
      "metadata": {
        "trusted": true
      },
      "execution_count": 3,
      "outputs": [
        {
          "name": "stdout",
          "text": "True\nTrue\nTrue\nFalse\n",
          "output_type": "stream"
        }
      ]
    },
    {
      "cell_type": "markdown",
      "source": " **Question 3**\n\nGiven two non-negative integers, num1 and num2 represented as string, return *the sum of* num1 *and* num2 *as a string*.\n\nYou must solve the problem without using any built-in library for handling large integers (such as BigInteger). You must also not convert the inputs to integers directly.\n\n**Example 1:**\n\n**Input:** num1 = \"11\", num2 = \"123\"\n\n**Output:**\n\n\"134\"\n\n",
      "metadata": {}
    },
    {
      "cell_type": "code",
      "source": "def add_strings(num1, num2):\n    result = []\n    carry = 0\n    i, j = len(num1) - 1, len(num2) - 1\n\n    while i >= 0 or j >= 0 or carry:\n        digit_sum = carry\n        if i >= 0:\n            digit_sum += int(num1[i])\n            i -= 1\n        if j >= 0:\n            digit_sum += int(num2[j])\n            j -= 1\n\n        result.append(str(digit_sum % 10))\n        carry = digit_sum // 10\n\n    return ''.join(result[::-1])\n\n# Test case\nprint(add_strings(\"11\", \"123\"))  # Output: \"134\"\n",
      "metadata": {
        "trusted": true
      },
      "execution_count": 4,
      "outputs": [
        {
          "name": "stdout",
          "text": "134\n",
          "output_type": "stream"
        }
      ]
    },
    {
      "cell_type": "markdown",
      "source": "**Question 4**\n\nGiven a string s, reverse the order of characters in each word within a sentence while still preserving whitespace and initial word order.\n\n**Example 1:**\n\n**Input:** s = \"Let's take LeetCode contest\"\n\n**Output:** \"s'teL ekat edoCteeL tsetnoc\"\n",
      "metadata": {}
    },
    {
      "cell_type": "code",
      "source": "def reverse_words(s):\n    words = s.split()\n    reversed_words = [word[::-1] for word in words]\n    return ' '.join(reversed_words)\n\n# Test case\ninput_str = \"Let's take LeetCode contest\"\nprint(reverse_words(input_str))  # Output: \"s'teL ekat edoCteeL tsetnoc\"\n",
      "metadata": {
        "trusted": true
      },
      "execution_count": 5,
      "outputs": [
        {
          "name": "stdout",
          "text": "s'teL ekat edoCteeL tsetnoc\n",
          "output_type": "stream"
        }
      ]
    },
    {
      "cell_type": "markdown",
      "source": " **Question 5**\n\nGiven a string s and an integer k, reverse the first k characters for every 2k characters counting from the start of the string.\n\nIf there are fewer than k characters left, reverse all of them. If there are less than 2k but greater than or equal to k characters, then reverse the first k characters and leave the other as original.\n\n**Example 1:**\n\n**Input:** s = \"abcdefg\", k = 2\n\n**Output:**\n\n\"bacdfeg\"\n\n",
      "metadata": {}
    },
    {
      "cell_type": "code",
      "source": "def reverse_chunks(s, k):\n    result = []\n    for i in range(0, len(s), 2 * k):\n        chunk = s[i:i + 2 * k]\n        reversed_chunk = chunk[:k][::-1] + chunk[k:]\n        result.append(reversed_chunk)\n    return ''.join(result)\n\n# Test case\ninput_str = \"abcdefg\"\nk_value = 2\nprint(reverse_chunks(input_str, k_value))  # Output: \"bacdfeg\"\n",
      "metadata": {
        "trusted": true
      },
      "execution_count": 6,
      "outputs": [
        {
          "name": "stdout",
          "text": "bacdfeg\n",
          "output_type": "stream"
        }
      ]
    },
    {
      "cell_type": "markdown",
      "source": " **Question 6**\n\nGiven two strings s and goal, return true *if and only if* s *can become* goal *after some number of **shifts** on* s.\n\nA **shift** on s consists of moving the leftmost character of s to the rightmost position.\n\n- For example, if s = \"abcde\", then it will be \"bcdea\" after one shift.\n\n**Example 1:**\n\n**Input:** s = \"abcde\", goal = \"cdeab\"\n\n**Output:**\n\ntrue",
      "metadata": {}
    },
    {
      "cell_type": "code",
      "source": "def can_shift_to_goal(s, goal):\n    if len(s) != len(goal):\n        return False\n\n    double_s = s + s\n    return goal in double_s\n\n# Test case\ns_input = \"abcde\"\ngoal_input = \"cdeab\"\nprint(can_shift_to_goal(s_input, goal_input))  # Output: True\n",
      "metadata": {
        "trusted": true
      },
      "execution_count": 7,
      "outputs": [
        {
          "name": "stdout",
          "text": "True\n",
          "output_type": "stream"
        }
      ]
    },
    {
      "cell_type": "markdown",
      "source": "Given two strings s and t, return true *if they are equal when both are typed into empty text editors*. '#' means a backspace character.\n\nNote that after backspacing an empty text, the text will continue empty.\n\n**Example 1:**\n\n**Input:** s = \"ab#c\", t = \"ad#c\"\n\n**Output:** true\n\n**Explanation:**\n\nBoth s and t become \"ac\".",
      "metadata": {}
    },
    {
      "cell_type": "code",
      "source": "def apply_backspace(s):\n    stack = []\n    for char in s:\n        if char == '#':\n            if stack:\n                stack.pop()\n        else:\n            stack.append(char)\n    return ''.join(stack)\n\ndef backspace_compare(s, t):\n    return apply_backspace(s) == apply_backspace(t)\n\n# Test case\ns_input = \"ab#c\"\nt_input = \"ad#c\"\nprint(backspace_compare(s_input, t_input))  # Output: True\n",
      "metadata": {
        "trusted": true
      },
      "execution_count": 8,
      "outputs": [
        {
          "name": "stdout",
          "text": "True\n",
          "output_type": "stream"
        }
      ]
    },
    {
      "cell_type": "markdown",
      "source": "You are given an array coordinates, coordinates[i] = [x, y], where [x, y] represents the coordinate of a point. Check if these points make a straight line in the XY plane.\n\n**Example 1:\n\n**Input:** coordinates = [[1,2],[2,3],[3,4],[4,5],[5,6],[6,7]]\n\n**Output:** true",
      "metadata": {}
    },
    {
      "cell_type": "code",
      "source": "def check_straight_line(coordinates):\n    if len(coordinates) <= 2:\n        return True\n\n    # Calculate the slope between the first two points\n    x1, y1 = coordinates[0]\n    x2, y2 = coordinates[1]\n    initial_slope = float('inf') if x2 - x1 == 0 else (y2 - y1) / (x2 - x1)\n\n    # Check if all other points have the same slope with the first point\n    for i in range(2, len(coordinates)):\n        x, y = coordinates[i]\n        if x2 - x == 0:\n            slope = float('inf')\n        else:\n            slope = (y2 - y) / (x2 - x)\n        if slope != initial_slope:\n            return False\n\n    return True\n\n# Test case\ncoordinates_input = [[1, 2], [2, 3], [3, 4], [4, 5], [5, 6], [6, 7]]\nprint(check_straight_line(coordinates_input))  # Output: True\n",
      "metadata": {
        "trusted": true
      },
      "execution_count": 9,
      "outputs": [
        {
          "name": "stdout",
          "text": "True\n",
          "output_type": "stream"
        }
      ]
    },
    {
      "cell_type": "code",
      "source": "",
      "metadata": {},
      "execution_count": null,
      "outputs": []
    }
  ]
}